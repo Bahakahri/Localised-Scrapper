{
 "cells": [
  {
   "cell_type": "code",
   "execution_count": 3,
   "id": "99f8cd73",
   "metadata": {},
   "outputs": [
    {
     "name": "stdout",
     "output_type": "stream",
     "text": [
      "8838412c0bfffff\n",
      "False\n"
     ]
    }
   ],
   "source": [
    "import h3\n",
    "\n",
    "# Define latitude and longitude\n",
    "lat1 = 34.7564924\n",
    "lon1 = 10.5120177\n",
    "\n",
    "\n",
    "# Specify the desired resolution (0–15)\n",
    "\n",
    "# Convert to H3 index\n",
    "h3_id1 = h3.latlng_to_cell(lat1, lon1, 8)\n",
    "hex_ids = [\"88384c5817fffff\",\"88384c581bfffff\",\"88384c5811fffff\",\"88384c5815fffff\",\"88384c5819fffff\",\"88384c581dfffff\",\"88384c583bfffff\",\"88384c58e7fffff\",\"88384c58e3fffff\",\"88384c58adfffff\",\"88384c58a1fffff\",\"88384c58a9fffff\",\"88384c58e5fffff\",\"88384c58ebfffff\",\"88384c58e9fffff\",\"88384c58edfffff\",\"88384c5813fffff\",\"88384c58e1fffff\",\"88384c5833fffff\",\"88384c59d1fffff\",\"88384c59d9fffff\",\"88384c588dfffff\",\"88384c59dbfffff\"]\n",
    "print(h3_id1) \n",
    "print(str(h3_id1) in hex_ids)"
   ]
  },
  {
   "cell_type": "code",
   "execution_count": 15,
   "id": "f225ecb5",
   "metadata": {},
   "outputs": [
    {
     "data": {
      "text/plain": [
       "['H3BaseException',\n",
       " 'H3CellInvalidError',\n",
       " 'H3DirEdgeInvalidError',\n",
       " 'H3DomainError',\n",
       " 'H3DuplicateInputError',\n",
       " 'H3FailedError',\n",
       " 'H3GridNavigationError',\n",
       " 'H3LatLngDomainError',\n",
       " 'H3MemoryAllocError',\n",
       " 'H3MemoryBoundsError',\n",
       " 'H3MemoryError',\n",
       " 'H3NotNeighborsError',\n",
       " 'H3OptionInvalidError',\n",
       " 'H3PentagonError',\n",
       " 'H3ResDomainError',\n",
       " 'H3ResMismatchError',\n",
       " 'H3Shape',\n",
       " 'H3UndirEdgeInvalidError',\n",
       " 'H3ValueError',\n",
       " 'H3VertexInvalidError',\n",
       " 'LatLngMultiPoly',\n",
       " 'LatLngPoly',\n",
       " 'Literal',\n",
       " 'UnknownH3ErrorCode',\n",
       " '__builtins__',\n",
       " '__cached__',\n",
       " '__doc__',\n",
       " '__file__',\n",
       " '__loader__',\n",
       " '__name__',\n",
       " '__package__',\n",
       " '__path__',\n",
       " '__spec__',\n",
       " '__version__',\n",
       " '_cy',\n",
       " '_h3shape',\n",
       " '_version',\n",
       " 'api',\n",
       " 'are_neighbor_cells',\n",
       " 'average_hexagon_area',\n",
       " 'average_hexagon_edge_length',\n",
       " 'cell_area',\n",
       " 'cell_to_boundary',\n",
       " 'cell_to_center_child',\n",
       " 'cell_to_child_pos',\n",
       " 'cell_to_children',\n",
       " 'cell_to_children_size',\n",
       " 'cell_to_latlng',\n",
       " 'cell_to_local_ij',\n",
       " 'cell_to_parent',\n",
       " 'cell_to_vertex',\n",
       " 'cell_to_vertexes',\n",
       " 'cells_to_directed_edge',\n",
       " 'cells_to_geo',\n",
       " 'cells_to_h3shape',\n",
       " 'child_pos_to_cell',\n",
       " 'compact_cells',\n",
       " 'directed_edge_to_boundary',\n",
       " 'directed_edge_to_cells',\n",
       " 'edge_length',\n",
       " 'geo_to_cells',\n",
       " 'geo_to_h3shape',\n",
       " 'get_base_cell_number',\n",
       " 'get_directed_edge_destination',\n",
       " 'get_directed_edge_origin',\n",
       " 'get_icosahedron_faces',\n",
       " 'get_num_cells',\n",
       " 'get_pentagons',\n",
       " 'get_res0_cells',\n",
       " 'get_resolution',\n",
       " 'great_circle_distance',\n",
       " 'grid_disk',\n",
       " 'grid_distance',\n",
       " 'grid_path_cells',\n",
       " 'grid_ring',\n",
       " 'h3shape_to_cells',\n",
       " 'h3shape_to_cells_experimental',\n",
       " 'h3shape_to_geo',\n",
       " 'int_to_str',\n",
       " 'is_pentagon',\n",
       " 'is_res_class_III',\n",
       " 'is_valid_cell',\n",
       " 'is_valid_directed_edge',\n",
       " 'is_valid_vertex',\n",
       " 'latlng_to_cell',\n",
       " 'local_ij_to_cell',\n",
       " 'origin_to_directed_edges',\n",
       " 'polygon_to_cells',\n",
       " 'polygon_to_cells_experimental',\n",
       " 'str_to_int',\n",
       " 'uncompact_cells',\n",
       " 'versions',\n",
       " 'vertex_to_latlng']"
      ]
     },
     "execution_count": 15,
     "metadata": {},
     "output_type": "execute_result"
    }
   ],
   "source": [
    "dir(h3)\n"
   ]
  },
  {
   "cell_type": "code",
   "execution_count": null,
   "id": "892e3eb2",
   "metadata": {},
   "outputs": [],
   "source": []
  }
 ],
 "metadata": {
  "kernelspec": {
   "display_name": "base",
   "language": "python",
   "name": "python3"
  },
  "language_info": {
   "codemirror_mode": {
    "name": "ipython",
    "version": 3
   },
   "file_extension": ".py",
   "mimetype": "text/x-python",
   "name": "python",
   "nbconvert_exporter": "python",
   "pygments_lexer": "ipython3",
   "version": "3.12.4"
  }
 },
 "nbformat": 4,
 "nbformat_minor": 5
}
